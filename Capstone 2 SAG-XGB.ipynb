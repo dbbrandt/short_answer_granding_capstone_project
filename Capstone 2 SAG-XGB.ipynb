{
 "cells": [
  {
   "cell_type": "markdown",
   "metadata": {},
   "source": [
    "# Capstone Project - Short Answer Grading\n",
    "\n",
    "## ShortAnswerGrading V2 Data and Modeling"
   ]
  },
  {
   "cell_type": "code",
   "execution_count": 2,
   "metadata": {},
   "outputs": [],
   "source": [
    "import pandas as pd\n",
    "import os\n",
    "import numpy as np\n",
    "\n",
    "# should be the name of directory you created to save your features data\n",
    "data_dir = 'data/sag2'"
   ]
  },
  {
   "cell_type": "markdown",
   "metadata": {},
   "source": [
    "# Setup AWS"
   ]
  },
  {
   "cell_type": "code",
   "execution_count": 3,
   "metadata": {},
   "outputs": [],
   "source": [
    "import boto3\n",
    "import sagemaker\n",
    "\n",
    "# session and role\n",
    "sagemaker_session = sagemaker.Session()\n",
    "role = sagemaker.get_execution_role()\n",
    "\n",
    "# create an S3 bucket\n",
    "bucket = sagemaker_session.default_bucket()"
   ]
  },
  {
   "cell_type": "code",
   "execution_count": 118,
   "metadata": {},
   "outputs": [],
   "source": [
    "# set prefix, a descriptive name for a directory  \n",
    "prefix = 'sagemaker/short_answer'\n",
    "\n",
    "# upload all data to S3\n",
    "train_location = sagemaker_session.upload_data(os.path.join(data_dir, 'train_xgb.csv'), key_prefix=prefix)\n",
    "validation_location = sagemaker_session.upload_data(os.path.join(data_dir, 'validate_xgb.csv'), key_prefix=prefix)\n",
    "\n",
    "s3_input_train = sagemaker.s3_input(s3_data=train_location, content_type='csv')\n",
    "s3_input_validation = sagemaker.s3_input(s3_data=validation_location, content_type='csv')\n"
   ]
  },
  {
   "cell_type": "markdown",
   "metadata": {},
   "source": [
    "## Analyzing Source Data"
   ]
  },
  {
   "cell_type": "code",
   "execution_count": 114,
   "metadata": {},
   "outputs": [],
   "source": [
    "raw_data = pd.read_csv(os.path.join(data_dir, \"answers.csv\"))\n",
    "train_data = pd.read_csv(os.path.join(data_dir, \"train_xgb.csv\"), header=None, names=None)\n",
    "validate_data = pd.read_csv(os.path.join(data_dir, \"validate_xgb.csv\"), header=None, names=None)\n",
    "test_data = pd.read_csv(os.path.join(data_dir, \"test.csv\"), header=None, names=None)\n",
    "vocab = pd.read_csv(os.path.join(data_dir, \"vocab.csv\"), header=None, names=None)"
   ]
  },
  {
   "cell_type": "code",
   "execution_count": 116,
   "metadata": {},
   "outputs": [
    {
     "name": "stdout",
     "output_type": "stream",
     "text": [
      "1200\n",
      "509\n"
     ]
    }
   ],
   "source": [
    "print(len(train_data))\n",
    "print(len(validate_data))"
   ]
  },
  {
   "cell_type": "code",
   "execution_count": 6,
   "metadata": {},
   "outputs": [
    {
     "name": "stdout",
     "output_type": "stream",
     "text": [
      "<class 'pandas.core.frame.DataFrame'>\n",
      "RangeIndex: 2442 entries, 0 to 2441\n",
      "Data columns (total 4 columns):\n",
      "id         2442 non-null float64\n",
      "answer     2442 non-null object\n",
      "score      2442 non-null float64\n",
      "correct    2442 non-null float64\n",
      "dtypes: float64(3), object(1)\n",
      "memory usage: 76.4+ KB\n"
     ]
    }
   ],
   "source": [
    "raw_data.info()"
   ]
  },
  {
   "cell_type": "code",
   "execution_count": 7,
   "metadata": {},
   "outputs": [
    {
     "data": {
      "text/plain": [
       "1963"
      ]
     },
     "execution_count": 7,
     "metadata": {},
     "output_type": "execute_result"
    }
   ],
   "source": [
    "len(vocab)"
   ]
  },
  {
   "cell_type": "code",
   "execution_count": 8,
   "metadata": {},
   "outputs": [],
   "source": [
    "raw_data['answer_length'] = raw_data['answer'].apply(lambda x: len(x))"
   ]
  },
  {
   "cell_type": "code",
   "execution_count": 11,
   "metadata": {},
   "outputs": [
    {
     "data": {
      "image/png": "[encoded data removed]",
      "text/plain": [
       "<Figure size 1440x432 with 1 Axes>"
      ]
     },
     "metadata": {},
     "output_type": "display_data"
    }
   ],
   "source": [
    "import matplotlib.pyplot as plt \n",
    "\n",
    "plt.hist(raw_data['answer_length'].values, bins=20)\n",
    "fig_size = plt.rcParams[\"figure.figsize\"]\n",
    "plt.xticks(np.arange(0, 1000, step=50))\n",
    "plt.show()"
   ]
  },
  {
   "cell_type": "code",
   "execution_count": 12,
   "metadata": {},
   "outputs": [
    {
     "data": {
      "image/png": "[encoded data removed]",
      "text/plain": [
       "<Figure size 1440x432 with 1 Axes>"
      ]
     },
     "metadata": {},
     "output_type": "display_data"
    }
   ],
   "source": [
    "plt.hist(raw_data['correct'],bins=2)\n",
    "plt.xticks(np.arange(2), ['False', 'True'])\n",
    "plt.rcParams[\"figure.figsize\"] = [2,2]\n",
    "plt.show()"
   ]
  },
  {
   "cell_type": "code",
   "execution_count": 132,
   "metadata": {},
   "outputs": [
    {
     "data": {
      "image/png": "[encoded data removed]",
      "text/plain": [
       "<Figure size 144x144 with 1 Axes>"
      ]
     },
     "metadata": {},
     "output_type": "display_data"
    }
   ],
   "source": [
    "plt.hist(train_data[0],bins=2)\n",
    "plt.xticks(np.arange(2), ['False', 'True'])\n",
    "plt.rcParams[\"figure.figsize\"] = [2,2]\n",
    "plt.show()"
   ]
  },
  {
   "cell_type": "code",
   "execution_count": 133,
   "metadata": {},
   "outputs": [
    {
     "data": {
      "image/png": "[encoded data removed]",
      "text/plain": [
       "<Figure size 144x144 with 1 Axes>"
      ]
     },
     "metadata": {},
     "output_type": "display_data"
    }
   ],
   "source": [
    "plt.hist(validate_data[0],bins=2)\n",
    "plt.xticks(np.arange(2), ['False', 'True'])\n",
    "plt.rcParams[\"figure.figsize\"] = [2,2]\n",
    "plt.show()"
   ]
  },
  {
   "cell_type": "code",
   "execution_count": 134,
   "metadata": {},
   "outputs": [
    {
     "data": {
      "image/png": "[encoded data removed]",
      "text/plain": [
       "<Figure size 144x144 with 1 Axes>"
      ]
     },
     "metadata": {},
     "output_type": "display_data"
    }
   ],
   "source": [
    "plt.hist(test_data[0],bins=2)\n",
    "plt.xticks(np.arange(2), ['False', 'True'])\n",
    "plt.rcParams[\"figure.figsize\"] = [2,2]\n",
    "plt.show()"
   ]
  },
  {
   "cell_type": "markdown",
   "metadata": {},
   "source": [
    "# Training Basic Model"
   ]
  },
  {
   "cell_type": "code",
   "execution_count": 15,
   "metadata": {},
   "outputs": [],
   "source": [
    "# We need to retrieve the location of the container which is provided by Amazon for using XGBoost.\n",
    "# As a matter of convenience, the training and inference code both use the same container.\n",
    "from sagemaker.amazon.amazon_estimator import get_image_uri\n",
    "\n",
    "container = get_image_uri(sagemaker_session.boto_region_name, 'xgboost')"
   ]
  },
  {
   "cell_type": "code",
   "execution_count": 119,
   "metadata": {},
   "outputs": [],
   "source": [
    "estimator = sagemaker.estimator.Estimator(container, # The location of the container we wish to use\n",
    "                                    role,                                    # What is our current IAM Role\n",
    "                                    train_instance_count=1,                  # How many compute instances\n",
    "                                    train_instance_type='ml.m4.xlarge',      # What kind of compute instances\n",
    "                                    output_path='s3://{}/{}/output'.format(sagemaker_session.default_bucket(), prefix),\n",
    "                                    sagemaker_session=sagemaker_session)\n",
    "\n",
    "estimator.set_hyperparameters(max_depth=5,\n",
    "                        eta=0.2,\n",
    "                        gamma=4,\n",
    "                        min_child_weight=6,\n",
    "                        subsample=0.8,\n",
    "                        silence=1,\n",
    "                        objective='binary:logistic',\n",
    "                        early_stopping_rounds=50,\n",
    "                        num_round=4000)"
   ]
  },
  {
   "cell_type": "code",
   "execution_count": 122,
   "metadata": {},
   "outputs": [
    {
     "name": "stdout",
     "output_type": "stream",
     "text": [
      "2019-07-02 13:50:30 Starting - Starting the training job...\n",
      "2019-07-02 13:50:31 Starting - Launching requested ML instances......\n",
      "2019-07-02 13:51:34 Starting - Preparing the instances for training......\n",
      "2019-07-02 13:52:42 Downloading - Downloading input data...\n",
      "2019-07-02 13:53:16 Training - Downloading the training image..\n",
      "\u001b[31mArguments: train\u001b[0m\n",
      "\u001b[31m[2019-07-02:13:53:37:INFO] Running standalone xgboost training.\u001b[0m\n",
      "\u001b[31m[2019-07-02:13:53:37:INFO] File size need to be processed in the node: 1.23mb. Available memory size in the node: 8470.11mb\u001b[0m\n",
      "\u001b[31m[2019-07-02:13:53:37:INFO] Determined delimiter of CSV input is ','\u001b[0m\n",
      "\u001b[31m[13:53:37] S3DistributionType set as FullyReplicated\u001b[0m\n",
      "\u001b[31m[13:53:37] 1200x176 matrix with 211200 entries loaded from /opt/ml/input/data/train?format=csv&label_column=0&delimiter=,\u001b[0m\n",
      "\u001b[31m[2019-07-02:13:53:37:INFO] Determined delimiter of CSV input is ','\u001b[0m\n",
      "\u001b[31m[13:53:37] S3DistributionType set as FullyReplicated\u001b[0m\n",
      "\u001b[31m[13:53:37] 509x176 matrix with 89584 entries loaded from /opt/ml/input/data/validation?format=csv&label_column=0&delimiter=,\u001b[0m\n",
      "\u001b[31m[13:53:37] src/tree/updater_prune.cc:74: tree pruning end, 1 roots, 22 extra nodes, 4 pruned nodes, max_depth=5\u001b[0m\n",
      "\u001b[31m[0]#011train-error:0.269167#011validation-error:0.318271\u001b[0m\n",
      "\u001b[31mMultiple eval metrics have been passed: 'validation-error' will be used for early stopping.\n",
      "\u001b[0m\n",
      "\u001b[31mWill train until validation-error hasn't improved in 50 rounds.\u001b[0m\n",
      "\u001b[31m[13:53:37] src/tree/updater_prune.cc:74: tree pruning end, 1 roots, 18 extra nodes, 0 pruned nodes, max_depth=5\u001b[0m\n",
      "\u001b[31m[1]#011train-error:0.246667#011validation-error:0.282908\u001b[0m\n",
      "\u001b[31m[13:53:37] src/tree/updater_prune.cc:74: tree pruning end, 1 roots, 18 extra nodes, 8 pruned nodes, max_depth=5\u001b[0m\n",
      "\u001b[31m[2]#011train-error:0.2375#011validation-error:0.286837\u001b[0m\n",
      "\u001b[31m[13:53:37] src/tree/updater_prune.cc:74: tree pruning end, 1 roots, 24 extra nodes, 2 pruned nodes, max_depth=5\u001b[0m\n",
      "\u001b[31m[3]#011train-error:0.24#011validation-error:0.282908\u001b[0m\n",
      "\u001b[31m[13:53:37] src/tree/updater_prune.cc:74: tree pruning end, 1 roots, 10 extra nodes, 0 pruned nodes, max_depth=5\u001b[0m\n",
      "\u001b[31m[4]#011train-error:0.250833#011validation-error:0.284872\u001b[0m\n",
      "\u001b[31m[13:53:37] src/tree/updater_prune.cc:74: tree pruning end, 1 roots, 28 extra nodes, 10 pruned nodes, max_depth=5\u001b[0m\n",
      "\u001b[31m[5]#011train-error:0.234167#011validation-error:0.278978\u001b[0m\n",
      "\u001b[31m[13:53:37] src/tree/updater_prune.cc:74: tree pruning end, 1 roots, 28 extra nodes, 2 pruned nodes, max_depth=5\u001b[0m\n",
      "\u001b[31m[6]#011train-error:0.228333#011validation-error:0.278978\u001b[0m\n",
      "\u001b[31m[13:53:37] src/tree/updater_prune.cc:74: tree pruning end, 1 roots, 12 extra nodes, 0 pruned nodes, max_depth=5\u001b[0m\n",
      "\u001b[31m[7]#011train-error:0.2325#011validation-error:0.278978\u001b[0m\n",
      "\u001b[31m[13:53:37] src/tree/updater_prune.cc:74: tree pruning end, 1 roots, 20 extra nodes, 8 pruned nodes, max_depth=5\u001b[0m\n",
      "\u001b[31m[8]#011train-error:0.230833#011validation-error:0.278978\u001b[0m\n",
      "\u001b[31m[13:53:37] src/tree/updater_prune.cc:74: tree pruning end, 1 roots, 16 extra nodes, 4 pruned nodes, max_depth=5\u001b[0m\n",
      "\u001b[31m[9]#011train-error:0.231667#011validation-error:0.273084\u001b[0m\n",
      "\u001b[31m[13:53:37] src/tree/updater_prune.cc:74: tree pruning end, 1 roots, 18 extra nodes, 10 pruned nodes, max_depth=5\u001b[0m\n",
      "\u001b[31m[10]#011train-error:0.221667#011validation-error:0.275049\u001b[0m\n",
      "\u001b[31m[13:53:37] src/tree/updater_prune.cc:74: tree pruning end, 1 roots, 14 extra nodes, 10 pruned nodes, max_depth=4\u001b[0m\n",
      "\u001b[31m[11]#011train-error:0.2175#011validation-error:0.277014\u001b[0m\n",
      "\u001b[31m[13:53:37] src/tree/updater_prune.cc:74: tree pruning end, 1 roots, 18 extra nodes, 8 pruned nodes, max_depth=5\u001b[0m\n",
      "\u001b[31m[12]#011train-error:0.211667#011validation-error:0.277014\u001b[0m\n",
      "\u001b[31m[13:53:37] src/tree/updater_prune.cc:74: tree pruning end, 1 roots, 28 extra nodes, 8 pruned nodes, max_depth=5\u001b[0m\n",
      "\u001b[31m[13]#011train-error:0.209167#011validation-error:0.275049\u001b[0m\n",
      "\u001b[31m[13:53:37] src/tree/updater_prune.cc:74: tree pruning end, 1 roots, 16 extra nodes, 2 pruned nodes, max_depth=5\u001b[0m\n",
      "\u001b[31m[14]#011train-error:0.204167#011validation-error:0.277014\u001b[0m\n",
      "\u001b[31m[13:53:37] src/tree/updater_prune.cc:74: tree pruning end, 1 roots, 16 extra nodes, 10 pruned nodes, max_depth=4\u001b[0m\n",
      "\u001b[31m[15]#011train-error:0.198333#011validation-error:0.275049\u001b[0m\n",
      "\u001b[31m[13:53:37] src/tree/updater_prune.cc:74: tree pruning end, 1 roots, 24 extra nodes, 2 pruned nodes, max_depth=5\u001b[0m\n",
      "\u001b[31m[16]#011train-error:0.195833#011validation-error:0.27112\u001b[0m\n",
      "\u001b[31m[13:53:37] src/tree/updater_prune.cc:74: tree pruning end, 1 roots, 6 extra nodes, 6 pruned nodes, max_depth=3\u001b[0m\n",
      "\u001b[31m[17]#011train-error:0.191667#011validation-error:0.27112\u001b[0m\n",
      "\u001b[31m[13:53:37] src/tree/updater_prune.cc:74: tree pruning end, 1 roots, 12 extra nodes, 6 pruned nodes, max_depth=5\u001b[0m\n",
      "\u001b[31m[18]#011train-error:0.188333#011validation-error:0.273084\u001b[0m\n",
      "\u001b[31m[13:53:37] src/tree/updater_prune.cc:74: tree pruning end, 1 roots, 16 extra nodes, 6 pruned nodes, max_depth=5\u001b[0m\n",
      "\u001b[31m[19]#011train-error:0.185833#011validation-error:0.27112\u001b[0m\n",
      "\u001b[31m[13:53:37] src/tree/updater_prune.cc:74: tree pruning end, 1 roots, 16 extra nodes, 0 pruned nodes, max_depth=5\u001b[0m\n",
      "\u001b[31m[20]#011train-error:0.186667#011validation-error:0.275049\u001b[0m\n",
      "\u001b[31m[13:53:37] src/tree/updater_prune.cc:74: tree pruning end, 1 roots, 12 extra nodes, 8 pruned nodes, max_depth=5\u001b[0m\n",
      "\u001b[31m[21]#011train-error:0.180833#011validation-error:0.273084\u001b[0m\n",
      "\u001b[31m[13:53:37] src/tree/updater_prune.cc:74: tree pruning end, 1 roots, 10 extra nodes, 10 pruned nodes, max_depth=4\u001b[0m\n",
      "\u001b[31m[22]#011train-error:0.181667#011validation-error:0.275049\u001b[0m\n",
      "\u001b[31m[13:53:37] src/tree/updater_prune.cc:74: tree pruning end, 1 roots, 6 extra nodes, 6 pruned nodes, max_depth=3\u001b[0m\n",
      "\u001b[31m[23]#011train-error:0.184167#011validation-error:0.275049\u001b[0m\n",
      "\u001b[31m[13:53:37] src/tree/updater_prune.cc:74: tree pruning end, 1 roots, 10 extra nodes, 14 pruned nodes, max_depth=5\u001b[0m\n",
      "\u001b[31m[24]#011train-error:0.178333#011validation-error:0.275049\u001b[0m\n",
      "\u001b[31m[13:53:37] src/tree/updater_prune.cc:74: tree pruning end, 1 roots, 12 extra nodes, 10 pruned nodes, max_depth=5\u001b[0m\n",
      "\u001b[31m[25]#011train-error:0.176667#011validation-error:0.278978\u001b[0m\n",
      "\u001b[31m[13:53:37] src/tree/updater_prune.cc:74: tree pruning end, 1 roots, 20 extra nodes, 10 pruned nodes, max_depth=5\u001b[0m\n",
      "\u001b[31m[26]#011train-error:0.171667#011validation-error:0.278978\u001b[0m\n",
      "\u001b[31m[13:53:37] src/tree/updater_prune.cc:74: tree pruning end, 1 roots, 4 extra nodes, 8 pruned nodes, max_depth=2\u001b[0m\n",
      "\u001b[31m[27]#011train-error:0.171667#011validation-error:0.278978\u001b[0m\n",
      "\u001b[31m[13:53:37] src/tree/updater_prune.cc:74: tree pruning end, 1 roots, 22 extra nodes, 8 pruned nodes, max_depth=5\u001b[0m\n",
      "\u001b[31m[28]#011train-error:0.165833#011validation-error:0.282908\u001b[0m\n",
      "\u001b[31m[13:53:37] src/tree/updater_prune.cc:74: tree pruning end, 1 roots, 12 extra nodes, 6 pruned nodes, max_depth=5\u001b[0m\n",
      "\u001b[31m[29]#011train-error:0.1625#011validation-error:0.280943\u001b[0m\n",
      "\u001b[31m[13:53:37] src/tree/updater_prune.cc:74: tree pruning end, 1 roots, 10 extra nodes, 10 pruned nodes, max_depth=4\u001b[0m\n",
      "\u001b[31m[30]#011train-error:0.160833#011validation-error:0.284872\u001b[0m\n",
      "\u001b[31m[13:53:37] src/tree/updater_prune.cc:74: tree pruning end, 1 roots, 14 extra nodes, 2 pruned nodes, max_depth=5\u001b[0m\n",
      "\u001b[31m[31]#011train-error:0.151667#011validation-error:0.282908\u001b[0m\n",
      "\u001b[31m[13:53:37] src/tree/updater_prune.cc:74: tree pruning end, 1 roots, 10 extra nodes, 6 pruned nodes, max_depth=3\u001b[0m\n",
      "\u001b[31m[32]#011train-error:0.153333#011validation-error:0.284872\u001b[0m\n",
      "\u001b[31m[13:53:37] src/tree/updater_prune.cc:74: tree pruning end, 1 roots, 22 extra nodes, 2 pruned nodes, max_depth=5\u001b[0m\n",
      "\u001b[31m[33]#011train-error:0.1475#011validation-error:0.273084\u001b[0m\n",
      "\u001b[31m[13:53:37] src/tree/updater_prune.cc:74: tree pruning end, 1 roots, 10 extra nodes, 10 pruned nodes, max_depth=5\u001b[0m\n",
      "\u001b[31m[34]#011train-error:0.148333#011validation-error:0.27112\u001b[0m\n",
      "\u001b[31m[13:53:37] src/tree/updater_prune.cc:74: tree pruning end, 1 roots, 6 extra nodes, 14 pruned nodes, max_depth=3\u001b[0m\n",
      "\u001b[31m[35]#011train-error:0.149167#011validation-error:0.27112\u001b[0m\n",
      "\u001b[31m[13:53:37] src/tree/updater_prune.cc:74: tree pruning end, 1 roots, 8 extra nodes, 8 pruned nodes, max_depth=4\u001b[0m\n",
      "\u001b[31m[36]#011train-error:0.150833#011validation-error:0.27112\u001b[0m\n",
      "\u001b[31m[13:53:37] src/tree/updater_prune.cc:74: tree pruning end, 1 roots, 8 extra nodes, 8 pruned nodes, max_depth=4\u001b[0m\n",
      "\u001b[31m[37]#011train-error:0.146667#011validation-error:0.280943\u001b[0m\n",
      "\u001b[31m[13:53:37] src/tree/updater_prune.cc:74: tree pruning end, 1 roots, 16 extra nodes, 10 pruned nodes, max_depth=5\u001b[0m\n",
      "\u001b[31m[38]#011train-error:0.139167#011validation-error:0.277014\u001b[0m\n",
      "\u001b[31m[13:53:37] src/tree/updater_prune.cc:74: tree pruning end, 1 roots, 8 extra nodes, 16 pruned nodes, max_depth=4\u001b[0m\n",
      "\u001b[31m[39]#011train-error:0.138333#011validation-error:0.277014\u001b[0m\n",
      "\u001b[31m[13:53:37] src/tree/updater_prune.cc:74: tree pruning end, 1 roots, 8 extra nodes, 8 pruned nodes, max_depth=4\u001b[0m\n",
      "\u001b[31m[40]#011train-error:0.135833#011validation-error:0.278978\u001b[0m\n",
      "\u001b[31m[13:53:37] src/tree/updater_prune.cc:74: tree pruning end, 1 roots, 10 extra nodes, 8 pruned nodes, max_depth=5\u001b[0m\n",
      "\u001b[31m[41]#011train-error:0.136667#011validation-error:0.284872\u001b[0m\n",
      "\u001b[31m[13:53:37] src/tree/updater_prune.cc:74: tree pruning end, 1 roots, 10 extra nodes, 14 pruned nodes, max_depth=5\u001b[0m\n",
      "\u001b[31m[42]#011train-error:0.136667#011validation-error:0.280943\u001b[0m\n",
      "\u001b[31m[13:53:37] src/tree/updater_prune.cc:74: tree pruning end, 1 roots, 0 extra nodes, 10 pruned nodes, max_depth=0\u001b[0m\n",
      "\u001b[31m[43]#011train-error:0.136667#011validation-error:0.280943\u001b[0m\n",
      "\u001b[31m[13:53:37] src/tree/updater_prune.cc:74: tree pruning end, 1 roots, 4 extra nodes, 18 pruned nodes, max_depth=2\u001b[0m\n",
      "\u001b[31m[44]#011train-error:0.1325#011validation-error:0.278978\u001b[0m\n",
      "\u001b[31m[13:53:37] src/tree/updater_prune.cc:74: tree pruning end, 1 roots, 10 extra nodes, 2 pruned nodes, max_depth=5\u001b[0m\n",
      "\u001b[31m[45]#011train-error:0.135833#011validation-error:0.278978\u001b[0m\n",
      "\u001b[31m[13:53:37] src/tree/updater_prune.cc:74: tree pruning end, 1 roots, 6 extra nodes, 8 pruned nodes, max_depth=3\u001b[0m\n",
      "\u001b[31m[46]#011train-error:0.1375#011validation-error:0.278978\u001b[0m\n",
      "\u001b[31m[13:53:37] src/tree/updater_prune.cc:74: tree pruning end, 1 roots, 6 extra nodes, 16 pruned nodes, max_depth=3\u001b[0m\n",
      "\u001b[31m[47]#011train-error:0.134167#011validation-error:0.284872\u001b[0m\n",
      "\u001b[31m[13:53:37] src/tree/updater_prune.cc:74: tree pruning end, 1 roots, 10 extra nodes, 2 pruned nodes, max_depth=5\u001b[0m\n",
      "\u001b[31m[48]#011train-error:0.1325#011validation-error:0.288802\u001b[0m\n",
      "\u001b[31m[13:53:37] src/tree/updater_prune.cc:74: tree pruning end, 1 roots, 0 extra nodes, 18 pruned nodes, max_depth=0\u001b[0m\n",
      "\u001b[31m[49]#011train-error:0.1325#011validation-error:0.288802\u001b[0m\n",
      "\u001b[31m[13:53:38] src/tree/updater_prune.cc:74: tree pruning end, 1 roots, 8 extra nodes, 20 pruned nodes, max_depth=3\u001b[0m\n",
      "\u001b[31m[50]#011train-error:0.130833#011validation-error:0.288802\u001b[0m\n",
      "\u001b[31m[13:53:38] src/tree/updater_prune.cc:74: tree pruning end, 1 roots, 0 extra nodes, 18 pruned nodes, max_depth=0\u001b[0m\n",
      "\u001b[31m[51]#011train-error:0.130833#011validation-error:0.288802\u001b[0m\n",
      "\u001b[31m[13:53:38] src/tree/updater_prune.cc:74: tree pruning end, 1 roots, 12 extra nodes, 20 pruned nodes, max_depth=4\u001b[0m\n",
      "\u001b[31m[52]#011train-error:0.128333#011validation-error:0.292731\u001b[0m\n",
      "\u001b[31m[13:53:38] src/tree/updater_prune.cc:74: tree pruning end, 1 roots, 12 extra nodes, 6 pruned nodes, max_depth=5\u001b[0m\n",
      "\u001b[31m[53]#011train-error:0.125#011validation-error:0.286837\u001b[0m\n",
      "\u001b[31m[13:53:38] src/tree/updater_prune.cc:74: tree pruning end, 1 roots, 10 extra nodes, 4 pruned nodes, max_depth=5\u001b[0m\n",
      "\u001b[31m[54]#011train-error:0.125#011validation-error:0.282908\u001b[0m\n",
      "\u001b[31m[13:53:38] src/tree/updater_prune.cc:74: tree pruning end, 1 roots, 0 extra nodes, 16 pruned nodes, max_depth=0\u001b[0m\n",
      "\u001b[31m[55]#011train-error:0.126667#011validation-error:0.282908\u001b[0m\n",
      "\u001b[31m[13:53:38] src/tree/updater_prune.cc:74: tree pruning end, 1 roots, 12 extra nodes, 14 pruned nodes, max_depth=5\u001b[0m\n",
      "\u001b[31m[56]#011train-error:0.126667#011validation-error:0.286837\u001b[0m\n",
      "\u001b[31m[13:53:38] src/tree/updater_prune.cc:74: tree pruning end, 1 roots, 10 extra nodes, 8 pruned nodes, max_depth=5\u001b[0m\n",
      "\u001b[31m[57]#011train-error:0.124167#011validation-error:0.286837\u001b[0m\n",
      "\u001b[31m[13:53:38] src/tree/updater_prune.cc:74: tree pruning end, 1 roots, 0 extra nodes, 20 pruned nodes, max_depth=0\u001b[0m\n",
      "\u001b[31m[58]#011train-error:0.125#011validation-error:0.286837\u001b[0m\n",
      "\u001b[31m[13:53:38] src/tree/updater_prune.cc:74: tree pruning end, 1 roots, 14 extra nodes, 8 pruned nodes, max_depth=5\u001b[0m\n",
      "\u001b[31m[59]#011train-error:0.12#011validation-error:0.284872\u001b[0m\n",
      "\u001b[31m[13:53:38] src/tree/updater_prune.cc:74: tree pruning end, 1 roots, 0 extra nodes, 24 pruned nodes, max_depth=0\u001b[0m\n",
      "\u001b[31m[60]#011train-error:0.12#011validation-error:0.284872\u001b[0m\n",
      "\u001b[31m[13:53:38] src/tree/updater_prune.cc:74: tree pruning end, 1 roots, 0 extra nodes, 16 pruned nodes, max_depth=0\u001b[0m\n",
      "\u001b[31m[61]#011train-error:0.120833#011validation-error:0.284872\u001b[0m\n",
      "\u001b[31m[13:53:38] src/tree/updater_prune.cc:74: tree pruning end, 1 roots, 0 extra nodes, 20 pruned nodes, max_depth=0\u001b[0m\n",
      "\u001b[31m[62]#011train-error:0.121667#011validation-error:0.284872\u001b[0m\n",
      "\u001b[31m[13:53:38] src/tree/updater_prune.cc:74: tree pruning end, 1 roots, 14 extra nodes, 4 pruned nodes, max_depth=5\u001b[0m\n",
      "\u001b[31m[63]#011train-error:0.12#011validation-error:0.280943\u001b[0m\n",
      "\u001b[31m[13:53:38] src/tree/updater_prune.cc:74: tree pruning end, 1 roots, 0 extra nodes, 30 pruned nodes, max_depth=0\u001b[0m\n",
      "\u001b[31m[64]#011train-error:0.119167#011validation-error:0.280943\u001b[0m\n",
      "\u001b[31m[13:53:38] src/tree/updater_prune.cc:74: tree pruning end, 1 roots, 0 extra nodes, 18 pruned nodes, max_depth=0\u001b[0m\n",
      "\u001b[31m[65]#011train-error:0.115#011validation-error:0.280943\u001b[0m\n",
      "\u001b[31m[13:53:38] src/tree/updater_prune.cc:74: tree pruning end, 1 roots, 0 extra nodes, 16 pruned nodes, max_depth=0\u001b[0m\n",
      "\u001b[31m[66]#011train-error:0.1175#011validation-error:0.280943\u001b[0m\n",
      "\u001b[31mStopping. Best iteration:\u001b[0m\n",
      "\u001b[31m[16]#011train-error:0.195833#011validation-error:0.27112\n",
      "\u001b[0m\n",
      "\n",
      "2019-07-02 13:53:49 Uploading - Uploading generated training model\n",
      "2019-07-02 13:53:49 Completed - Training job completed\n",
      "Billable seconds: 68\n",
      "CPU times: user 423 ms, sys: 38.7 ms, total: 461 ms\n",
      "Wall time: 3min 41s\n"
     ]
    }
   ],
   "source": [
    "%%time\n",
    "# Train estimator on S3 training data\n",
    "estimator.fit({'train': s3_input_train, 'validation': s3_input_validation})"
   ]
  },
  {
   "cell_type": "code",
   "execution_count": 123,
   "metadata": {},
   "outputs": [
    {
     "data": {
      "text/plain": [
       "'xgboost-2019-07-02-13-50-30-261'"
      ]
     },
     "execution_count": 123,
     "metadata": {},
     "output_type": "execute_result"
    }
   ],
   "source": [
    "estimator._current_job_name"
   ]
  },
  {
   "cell_type": "code",
   "execution_count": null,
   "metadata": {},
   "outputs": [],
   "source": []
  },
  {
   "cell_type": "code",
   "execution_count": null,
   "metadata": {},
   "outputs": [],
   "source": []
  },
  {
   "cell_type": "markdown",
   "metadata": {},
   "source": [
    "# Hypertuning Model"
   ]
  },
  {
   "cell_type": "code",
   "execution_count": 137,
   "metadata": {},
   "outputs": [],
   "source": [
    "# First, make sure to import the relevant objects used to construct the tuner\n",
    "from sagemaker.tuner import IntegerParameter, ContinuousParameter, HyperparameterTuner\n",
    "\n",
    "xgb_hyperparameter_tuner = HyperparameterTuner(estimator = estimator, # The estimator object to use as the basis for the training jobs.\n",
    "                                               objective_metric_name = 'validation:rmse', # The metric used to compare trained models.\n",
    "                                               objective_type = 'Minimize', # Whether we wish to minimize or maximize the metric.\n",
    "                                               max_jobs = 18, # The total number of models to train\n",
    "                                               max_parallel_jobs = 6, # The number of models to train in parallel\n",
    "                                               hyperparameter_ranges = {\n",
    "                                                    'max_depth': IntegerParameter(3, 12),\n",
    "                                                    'eta'      : ContinuousParameter(0.05, 0.5),\n",
    "                                                    'min_child_weight': IntegerParameter(2, 8),\n",
    "                                                    'subsample': ContinuousParameter(0.5, 0.9),\n",
    "                                                    'gamma': ContinuousParameter(0, 10),\n",
    "                                               })\n"
   ]
  },
  {
   "cell_type": "code",
   "execution_count": 140,
   "metadata": {},
   "outputs": [],
   "source": [
    "# tf_hyperparameter_tuner.fit({'train': s3_input_train, 'validation': s3_input_validation})\n",
    "xgb_hyperparameter_tuner.fit({'train': s3_input_train, 'validation': s3_input_validation})"
   ]
  },
  {
   "cell_type": "code",
   "execution_count": 141,
   "metadata": {},
   "outputs": [
    {
     "name": "stdout",
     "output_type": "stream",
     "text": [
      "......................................................................................................................................!\n"
     ]
    }
   ],
   "source": [
    "xgb_hyperparameter_tuner.wait()"
   ]
  },
  {
   "cell_type": "code",
   "execution_count": 144,
   "metadata": {},
   "outputs": [
    {
     "name": "stdout",
     "output_type": "stream",
     "text": [
      "xgboost-190702-1956-017-2473c488\n"
     ]
    }
   ],
   "source": [
    "training_job_name = xgb_hyperparameter_tuner.best_training_job()\n",
    "print(training_job_name)"
   ]
  },
  {
   "cell_type": "code",
   "execution_count": 145,
   "metadata": {},
   "outputs": [
    {
     "name": "stdout",
     "output_type": "stream",
     "text": [
      "2019-07-02 20:06:49 Starting - Preparing the instances for training\n",
      "2019-07-02 20:06:49 Downloading - Downloading input data\n",
      "2019-07-02 20:06:49 Training - Training image download completed. Training in progress.\n",
      "2019-07-02 20:06:49 Uploading - Uploading generated training model\n",
      "2019-07-02 20:06:49 Completed - Training job completed\u001b[31mArguments: train\u001b[0m\n",
      "\u001b[31m[2019-07-02:20:06:38:INFO] Running standalone xgboost training.\u001b[0m\n",
      "\u001b[31m[2019-07-02:20:06:38:INFO] Setting up HPO optimized metric to be : rmse\u001b[0m\n",
      "\u001b[31m[2019-07-02:20:06:38:INFO] File size need to be processed in the node: 1.23mb. Available memory size in the node: 8459.77mb\u001b[0m\n",
      "\u001b[31m[2019-07-02:20:06:38:INFO] Determined delimiter of CSV input is ','\u001b[0m\n",
      "\u001b[31m[20:06:38] S3DistributionType set as FullyReplicated\u001b[0m\n",
      "\u001b[31m[20:06:38] 1200x176 matrix with 211200 entries loaded from /opt/ml/input/data/train?format=csv&label_column=0&delimiter=,\u001b[0m\n",
      "\u001b[31m[2019-07-02:20:06:38:INFO] Determined delimiter of CSV input is ','\u001b[0m\n",
      "\u001b[31m[20:06:38] S3DistributionType set as FullyReplicated\u001b[0m\n",
      "\u001b[31m[20:06:38] 509x176 matrix with 89584 entries loaded from /opt/ml/input/data/validation?format=csv&label_column=0&delimiter=,\u001b[0m\n",
      "\u001b[31m[20:06:38] src/tree/updater_prune.cc:74: tree pruning end, 1 roots, 74 extra nodes, 14 pruned nodes, max_depth=10\u001b[0m\n",
      "\u001b[31m[0]#011train-rmse:0.488701#011validation-rmse:0.494312\u001b[0m\n",
      "\u001b[31mMultiple eval metrics have been passed: 'validation-rmse' will be used for early stopping.\n",
      "\u001b[0m\n",
      "\u001b[31mWill train until validation-rmse hasn't improved in 50 rounds.\u001b[0m\n",
      "\u001b[31m[20:06:38] src/tree/updater_prune.cc:74: tree pruning end, 1 roots, 72 extra nodes, 20 pruned nodes, max_depth=10\u001b[0m\n",
      "\u001b[31m[1]#011train-rmse:0.477462#011validation-rmse:0.488799\u001b[0m\n",
      "\u001b[31m[20:06:38] src/tree/updater_prune.cc:74: tree pruning end, 1 roots, 50 extra nodes, 10 pruned nodes, max_depth=10\u001b[0m\n",
      "\u001b[31m[2]#011train-rmse:0.468988#011validation-rmse:0.483789\u001b[0m\n",
      "\u001b[31m[20:06:38] src/tree/updater_prune.cc:74: tree pruning end, 1 roots, 72 extra nodes, 22 pruned nodes, max_depth=10\u001b[0m\n",
      "\u001b[31m[3]#011train-rmse:0.459497#011validation-rmse:0.478721\u001b[0m\n",
      "\u001b[31m[20:06:38] src/tree/updater_prune.cc:74: tree pruning end, 1 roots, 56 extra nodes, 26 pruned nodes, max_depth=10\u001b[0m\n",
      "\u001b[31m[4]#011train-rmse:0.451035#011validation-rmse:0.474598\u001b[0m\n",
      "\u001b[31m[20:06:38] src/tree/updater_prune.cc:74: tree pruning end, 1 roots, 66 extra nodes, 30 pruned nodes, max_depth=10\u001b[0m\n",
      "\u001b[31m[5]#011train-rmse:0.44303#011validation-rmse:0.470733\u001b[0m\n",
      "\u001b[31m[20:06:38] src/tree/updater_prune.cc:74: tree pruning end, 1 roots, 68 extra nodes, 42 pruned nodes, max_depth=8\u001b[0m\n",
      "\u001b[31m[6]#011train-rmse:0.434767#011validation-rmse:0.466663\u001b[0m\n",
      "\u001b[31m[20:06:38] src/tree/updater_prune.cc:74: tree pruning end, 1 roots, 82 extra nodes, 20 pruned nodes, max_depth=10\u001b[0m\n",
      "\u001b[31m[7]#011train-rmse:0.42616#011validation-rmse:0.463107\u001b[0m\n",
      "\u001b[31m[20:06:38] src/tree/updater_prune.cc:74: tree pruning end, 1 roots, 80 extra nodes, 28 pruned nodes, max_depth=10\u001b[0m\n",
      "\u001b[31m[8]#011train-rmse:0.41848#011validation-rmse:0.460434\u001b[0m\n",
      "\u001b[31m[20:06:38] src/tree/updater_prune.cc:74: tree pruning end, 1 roots, 64 extra nodes, 28 pruned nodes, max_depth=10\u001b[0m\n",
      "\u001b[31m[9]#011train-rmse:0.411833#011validation-rmse:0.45761\u001b[0m\n",
      "\u001b[31m[20:06:38] src/tree/updater_prune.cc:74: tree pruning end, 1 roots, 78 extra nodes, 40 pruned nodes, max_depth=9\u001b[0m\n",
      "\u001b[31m[10]#011train-rmse:0.404772#011validation-rmse:0.454938\u001b[0m\n",
      "\u001b[31m[20:06:38] src/tree/updater_prune.cc:74: tree pruning end, 1 roots, 72 extra nodes, 48 pruned nodes, max_depth=8\u001b[0m\n",
      "\u001b[31m[11]#011train-rmse:0.398383#011validation-rmse:0.452447\u001b[0m\n",
      "\u001b[31m[20:06:38] src/tree/updater_prune.cc:74: tree pruning end, 1 roots, 64 extra nodes, 32 pruned nodes, max_depth=10\u001b[0m\n",
      "\u001b[31m[12]#011train-rmse:0.392465#011validation-rmse:0.450632\u001b[0m\n",
      "\u001b[31m[20:06:38] src/tree/updater_prune.cc:74: tree pruning end, 1 roots, 50 extra nodes, 52 pruned nodes, max_depth=9\u001b[0m\n",
      "\u001b[31m[13]#011train-rmse:0.387734#011validation-rmse:0.449095\u001b[0m\n",
      "\u001b[31m[20:06:38] src/tree/updater_prune.cc:74: tree pruning end, 1 roots, 60 extra nodes, 24 pruned nodes, max_depth=10\u001b[0m\n",
      "\u001b[31m[14]#011train-rmse:0.382665#011validation-rmse:0.447431\u001b[0m\n",
      "\u001b[31m[20:06:38] src/tree/updater_prune.cc:74: tree pruning end, 1 roots, 48 extra nodes, 34 pruned nodes, max_depth=10\u001b[0m\n",
      "\u001b[31m[15]#011train-rmse:0.378579#011validation-rmse:0.44607\u001b[0m\n",
      "\u001b[31m[20:06:38] src/tree/updater_prune.cc:74: tree pruning end, 1 roots, 46 extra nodes, 32 pruned nodes, max_depth=9\u001b[0m\n",
      "\u001b[31m[16]#011train-rmse:0.374816#011validation-rmse:0.445174\u001b[0m\n",
      "\u001b[31m[20:06:38] src/tree/updater_prune.cc:74: tree pruning end, 1 roots, 66 extra nodes, 44 pruned nodes, max_depth=10\u001b[0m\n",
      "\u001b[31m[17]#011train-rmse:0.369723#011validation-rmse:0.444047\u001b[0m\n",
      "\u001b[31m[20:06:38] src/tree/updater_prune.cc:74: tree pruning end, 1 roots, 70 extra nodes, 38 pruned nodes, max_depth=10\u001b[0m\n",
      "\u001b[31m[18]#011train-rmse:0.364862#011validation-rmse:0.443113\u001b[0m\n",
      "\u001b[31m[20:06:38] src/tree/updater_prune.cc:74: tree pruning end, 1 roots, 70 extra nodes, 34 pruned nodes, max_depth=10\u001b[0m\n",
      "\u001b[31m[19]#011train-rmse:0.360599#011validation-rmse:0.442392\u001b[0m\n",
      "\u001b[31m[20:06:38] src/tree/updater_prune.cc:74: tree pruning end, 1 roots, 60 extra nodes, 56 pruned nodes, max_depth=9\u001b[0m\n",
      "\u001b[31m[20]#011train-rmse:0.356582#011validation-rmse:0.441247\u001b[0m\n",
      "\u001b[31m[20:06:38] src/tree/updater_prune.cc:74: tree pruning end, 1 roots, 50 extra nodes, 44 pruned nodes, max_depth=10\u001b[0m\n",
      "\u001b[31m[21]#011train-rmse:0.353554#011validation-rmse:0.440489\u001b[0m\n",
      "\u001b[31m[20:06:38] src/tree/updater_prune.cc:74: tree pruning end, 1 roots, 48 extra nodes, 30 pruned nodes, max_depth=10\u001b[0m\n",
      "\u001b[31m[22]#011train-rmse:0.350749#011validation-rmse:0.439914\u001b[0m\n",
      "\u001b[31m[20:06:38] src/tree/updater_prune.cc:74: tree pruning end, 1 roots, 56 extra nodes, 56 pruned nodes, max_depth=10\u001b[0m\n",
      "\u001b[31m[23]#011train-rmse:0.347313#011validation-rmse:0.439415\u001b[0m\n",
      "\u001b[31m[20:06:38] src/tree/updater_prune.cc:74: tree pruning end, 1 roots, 60 extra nodes, 58 pruned nodes, max_depth=10\u001b[0m\n",
      "\u001b[31m[24]#011train-rmse:0.343721#011validation-rmse:0.43868\u001b[0m\n",
      "\u001b[31m[20:06:38] src/tree/updater_prune.cc:74: tree pruning end, 1 roots, 46 extra nodes, 56 pruned nodes, max_depth=10\u001b[0m\n",
      "\u001b[31m[25]#011train-rmse:0.340863#011validation-rmse:0.437829\u001b[0m\n",
      "\u001b[31m[20:06:38] src/tree/updater_prune.cc:74: tree pruning end, 1 roots, 30 extra nodes, 12 pruned nodes, max_depth=10\u001b[0m\n",
      "\u001b[31m[26]#011train-rmse:0.338984#011validation-rmse:0.437501\u001b[0m\n",
      "\u001b[31m[20:06:38] src/tree/updater_prune.cc:74: tree pruning end, 1 roots, 50 extra nodes, 46 pruned nodes, max_depth=9\u001b[0m\n",
      "\u001b[31m[27]#011train-rmse:0.335994#011validation-rmse:0.437074\u001b[0m\n",
      "\u001b[31m[20:06:38] src/tree/updater_prune.cc:74: tree pruning end, 1 roots, 42 extra nodes, 28 pruned nodes, max_depth=10\u001b[0m\n",
      "\u001b[31m[28]#011train-rmse:0.333491#011validation-rmse:0.437278\u001b[0m\n",
      "\u001b[31m[20:06:38] src/tree/updater_prune.cc:74: tree pruning end, 1 roots, 48 extra nodes, 36 pruned nodes, max_depth=10\u001b[0m\n",
      "\u001b[31m[29]#011train-rmse:0.330814#011validation-rmse:0.436947\u001b[0m\n",
      "\u001b[31m[20:06:38] src/tree/updater_prune.cc:74: tree pruning end, 1 roots, 60 extra nodes, 50 pruned nodes, max_depth=10\u001b[0m\n",
      "\u001b[31m[30]#011train-rmse:0.327472#011validation-rmse:0.436735\u001b[0m\n",
      "\u001b[31m[20:06:38] src/tree/updater_prune.cc:74: tree pruning end, 1 roots, 52 extra nodes, 32 pruned nodes, max_depth=10\u001b[0m\n",
      "\u001b[31m[31]#011train-rmse:0.324894#011validation-rmse:0.436755\u001b[0m\n",
      "\u001b[31m[20:06:38] src/tree/updater_prune.cc:74: tree pruning end, 1 roots, 54 extra nodes, 60 pruned nodes, max_depth=10\u001b[0m\n",
      "\u001b[31m[32]#011train-rmse:0.322163#011validation-rmse:0.436829\u001b[0m\n",
      "\u001b[31m[20:06:38] src/tree/updater_prune.cc:74: tree pruning end, 1 roots, 54 extra nodes, 38 pruned nodes, max_depth=10\u001b[0m\n",
      "\u001b[31m[33]#011train-rmse:0.319423#011validation-rmse:0.436817\u001b[0m\n",
      "\u001b[31m[20:06:38] src/tree/updater_prune.cc:74: tree pruning end, 1 roots, 48 extra nodes, 68 pruned nodes, max_depth=8\u001b[0m\n",
      "\u001b[31m[34]#011train-rmse:0.317362#011validation-rmse:0.436722\u001b[0m\n",
      "\u001b[31m[20:06:38] src/tree/updater_prune.cc:74: tree pruning end, 1 roots, 42 extra nodes, 38 pruned nodes, max_depth=10\u001b[0m\n",
      "\u001b[31m[35]#011train-rmse:0.315413#011validation-rmse:0.436484\u001b[0m\n",
      "\u001b[31m[20:06:38] src/tree/updater_prune.cc:74: tree pruning end, 1 roots, 22 extra nodes, 26 pruned nodes, max_depth=10\u001b[0m\n",
      "\u001b[31m[36]#011train-rmse:0.314531#011validation-rmse:0.436136\u001b[0m\n",
      "\u001b[31m[20:06:38] src/tree/updater_prune.cc:74: tree pruning end, 1 roots, 28 extra nodes, 14 pruned nodes, max_depth=10\u001b[0m\n",
      "\u001b[31m[37]#011train-rmse:0.313247#011validation-rmse:0.436149\u001b[0m\n",
      "\u001b[31m[20:06:38] src/tree/updater_prune.cc:74: tree pruning end, 1 roots, 44 extra nodes, 22 pruned nodes, max_depth=10\u001b[0m\n",
      "\u001b[31m[38]#011train-rmse:0.310962#011validation-rmse:0.435917\u001b[0m\n",
      "\u001b[31m[20:06:38] src/tree/updater_prune.cc:74: tree pruning end, 1 roots, 38 extra nodes, 72 pruned nodes, max_depth=9\u001b[0m\n",
      "\u001b[31m[39]#011train-rmse:0.309476#011validation-rmse:0.435597\u001b[0m\n",
      "\u001b[31m[20:06:38] src/tree/updater_prune.cc:74: tree pruning end, 1 roots, 36 extra nodes, 14 pruned nodes, max_depth=10\u001b[0m\n",
      "\u001b[31m[40]#011train-rmse:0.307839#011validation-rmse:0.435456\u001b[0m\n",
      "\u001b[31m[20:06:38] src/tree/updater_prune.cc:74: tree pruning end, 1 roots, 34 extra nodes, 48 pruned nodes, max_depth=10\u001b[0m\n",
      "\u001b[31m[41]#011train-rmse:0.306201#011validation-rmse:0.435274\u001b[0m\n",
      "\u001b[31m[20:06:38] src/tree/updater_prune.cc:74: tree pruning end, 1 roots, 40 extra nodes, 28 pruned nodes, max_depth=10\u001b[0m\n",
      "\u001b[31m[42]#011train-rmse:0.304351#011validation-rmse:0.435081\u001b[0m\n",
      "\u001b[31m[20:06:38] src/tree/updater_prune.cc:74: tree pruning end, 1 roots, 22 extra nodes, 12 pruned nodes, max_depth=10\u001b[0m\n",
      "\u001b[31m[43]#011train-rmse:0.303573#011validation-rmse:0.435096\u001b[0m\n",
      "\u001b[31m[20:06:38] src/tree/updater_prune.cc:74: tree pruning end, 1 roots, 34 extra nodes, 54 pruned nodes, max_depth=10\u001b[0m\n",
      "\u001b[31m[44]#011train-rmse:0.302021#011validation-rmse:0.435298\u001b[0m\n",
      "\u001b[31m[20:06:38] src/tree/updater_prune.cc:74: tree pruning end, 1 roots, 20 extra nodes, 30 pruned nodes, max_depth=8\u001b[0m\n",
      "\u001b[31m[45]#011train-rmse:0.301222#011validation-rmse:0.435429\u001b[0m\n",
      "\u001b[31m[20:06:38] src/tree/updater_prune.cc:74: tree pruning end, 1 roots, 26 extra nodes, 34 pruned nodes, max_depth=10\u001b[0m\n",
      "\u001b[31m[46]#011train-rmse:0.300223#011validation-rmse:0.435508\u001b[0m\n",
      "\u001b[31m[20:06:38] src/tree/updater_prune.cc:74: tree pruning end, 1 roots, 36 extra nodes, 54 pruned nodes, max_depth=8\u001b[0m\n",
      "\u001b[31m[47]#011train-rmse:0.298825#011validation-rmse:0.435512\u001b[0m\n",
      "\u001b[31m[20:06:38] src/tree/updater_prune.cc:74: tree pruning end, 1 roots, 26 extra nodes, 44 pruned nodes, max_depth=9\u001b[0m\n",
      "\u001b[31m[48]#011train-rmse:0.297864#011validation-rmse:0.435693\u001b[0m\n",
      "\u001b[31m[20:06:38] src/tree/updater_prune.cc:74: tree pruning end, 1 roots, 36 extra nodes, 18 pruned nodes, max_depth=10\u001b[0m\n",
      "\u001b[31m[49]#011train-rmse:0.296508#011validation-rmse:0.435741\u001b[0m\n",
      "\u001b[31m[20:06:38] src/tree/updater_prune.cc:74: tree pruning end, 1 roots, 42 extra nodes, 44 pruned nodes, max_depth=10\u001b[0m\n",
      "\u001b[31m[50]#011train-rmse:0.294705#011validation-rmse:0.435765\u001b[0m\n",
      "\u001b[31m[20:06:38] src/tree/updater_prune.cc:74: tree pruning end, 1 roots, 22 extra nodes, 34 pruned nodes, max_depth=9\u001b[0m\n",
      "\u001b[31m[51]#011train-rmse:0.293823#011validation-rmse:0.435445\u001b[0m\n",
      "\u001b[31m[20:06:38] src/tree/updater_prune.cc:74: tree pruning end, 1 roots, 38 extra nodes, 54 pruned nodes, max_depth=9\u001b[0m\n",
      "\u001b[31m[52]#011train-rmse:0.292099#011validation-rmse:0.435175\u001b[0m\n",
      "\u001b[31m[20:06:38] src/tree/updater_prune.cc:74: tree pruning end, 1 roots, 24 extra nodes, 44 pruned nodes, max_depth=9\u001b[0m\n",
      "\u001b[31m[53]#011train-rmse:0.291221#011validation-rmse:0.435667\u001b[0m\n",
      "\u001b[31m[20:06:38] src/tree/updater_prune.cc:74: tree pruning end, 1 roots, 28 extra nodes, 16 pruned nodes, max_depth=10\u001b[0m\n",
      "\u001b[31m[54]#011train-rmse:0.290257#011validation-rmse:0.435606\u001b[0m\n",
      "\u001b[31m[20:06:38] src/tree/updater_prune.cc:74: tree pruning end, 1 roots, 34 extra nodes, 52 pruned nodes, max_depth=9\u001b[0m\n",
      "\u001b[31m[55]#011train-rmse:0.28888#011validation-rmse:0.435602\u001b[0m\n",
      "\u001b[31m[20:06:38] src/tree/updater_prune.cc:74: tree pruning end, 1 roots, 24 extra nodes, 24 pruned nodes, max_depth=10\u001b[0m\n",
      "\u001b[31m[56]#011train-rmse:0.288027#011validation-rmse:0.435896\u001b[0m\n",
      "\u001b[31m[20:06:38] src/tree/updater_prune.cc:74: tree pruning end, 1 roots, 22 extra nodes, 20 pruned nodes, max_depth=10\u001b[0m\n",
      "\u001b[31m[57]#011train-rmse:0.287444#011validation-rmse:0.43582\u001b[0m\n",
      "\u001b[31m[20:06:38] src/tree/updater_prune.cc:74: tree pruning end, 1 roots, 12 extra nodes, 30 pruned nodes, max_depth=6\u001b[0m\n",
      "\u001b[31m[58]#011train-rmse:0.287248#011validation-rmse:0.43603\u001b[0m\n",
      "\u001b[31m[20:06:38] src/tree/updater_prune.cc:74: tree pruning end, 1 roots, 28 extra nodes, 34 pruned nodes, max_depth=10\u001b[0m\n",
      "\u001b[31m[59]#011train-rmse:0.286161#011validation-rmse:0.436389\u001b[0m\n",
      "\u001b[31m[20:06:38] src/tree/updater_prune.cc:74: tree pruning end, 1 roots, 32 extra nodes, 54 pruned nodes, max_depth=8\u001b[0m\n",
      "\u001b[31m[60]#011train-rmse:0.284547#011validation-rmse:0.436559\u001b[0m\n",
      "\u001b[31m[20:06:38] src/tree/updater_prune.cc:74: tree pruning end, 1 roots, 26 extra nodes, 54 pruned nodes, max_depth=10\u001b[0m\n",
      "\u001b[31m[61]#011train-rmse:0.283211#011validation-rmse:0.43622\u001b[0m\n",
      "\u001b[31m[20:06:38] src/tree/updater_prune.cc:74: tree pruning end, 1 roots, 18 extra nodes, 24 pruned nodes, max_depth=9\u001b[0m\n",
      "\u001b[31m[62]#011train-rmse:0.282739#011validation-rmse:0.436454\u001b[0m\n",
      "\u001b[31m[20:06:38] src/tree/updater_prune.cc:74: tree pruning end, 1 roots, 36 extra nodes, 42 pruned nodes, max_depth=9\u001b[0m\n",
      "\u001b[31m[63]#011train-rmse:0.280888#011validation-rmse:0.436177\u001b[0m\n",
      "\u001b[31m[20:06:38] src/tree/updater_prune.cc:74: tree pruning end, 1 roots, 34 extra nodes, 58 pruned nodes, max_depth=10\u001b[0m\n",
      "\u001b[31m[64]#011train-rmse:0.279243#011validation-rmse:0.435792\u001b[0m\n",
      "\u001b[31m[20:06:38] src/tree/updater_prune.cc:74: tree pruning end, 1 roots, 24 extra nodes, 52 pruned nodes, max_depth=10\u001b[0m\n",
      "\u001b[31m[65]#011train-rmse:0.278191#011validation-rmse:0.435671\u001b[0m\n",
      "\u001b[31m[20:06:38] src/tree/updater_prune.cc:74: tree pruning end, 1 roots, 20 extra nodes, 30 pruned nodes, max_depth=10\u001b[0m\n",
      "\u001b[31m[66]#011train-rmse:0.277638#011validation-rmse:0.435708\u001b[0m\n",
      "\u001b[31m[20:06:38] src/tree/updater_prune.cc:74: tree pruning end, 1 roots, 34 extra nodes, 36 pruned nodes, max_depth=10\u001b[0m\n",
      "\u001b[31m[67]#011train-rmse:0.276082#011validation-rmse:0.435858\u001b[0m\n",
      "\u001b[31m[20:06:38] src/tree/updater_prune.cc:74: tree pruning end, 1 roots, 20 extra nodes, 76 pruned nodes, max_depth=7\u001b[0m\n",
      "\u001b[31m[68]#011train-rmse:0.275339#011validation-rmse:0.435846\u001b[0m\n",
      "\u001b[31m[20:06:38] src/tree/updater_prune.cc:74: tree pruning end, 1 roots, 34 extra nodes, 48 pruned nodes, max_depth=10\u001b[0m\n",
      "\u001b[31m[69]#011train-rmse:0.27403#011validation-rmse:0.435584\u001b[0m\n",
      "\u001b[31m[20:06:38] src/tree/updater_prune.cc:74: tree pruning end, 1 roots, 20 extra nodes, 26 pruned nodes, max_depth=9\u001b[0m\n",
      "\u001b[31m[70]#011train-rmse:0.273346#011validation-rmse:0.43571\u001b[0m\n",
      "\u001b[31m[20:06:38] src/tree/updater_prune.cc:74: tree pruning end, 1 roots, 34 extra nodes, 40 pruned nodes, max_depth=9\u001b[0m\n",
      "\u001b[31m[71]#011train-rmse:0.272019#011validation-rmse:0.435593\u001b[0m\n",
      "\u001b[31m[20:06:38] src/tree/updater_prune.cc:74: tree pruning end, 1 roots, 22 extra nodes, 26 pruned nodes, max_depth=10\u001b[0m\n",
      "\u001b[31m[72]#011train-rmse:0.271422#011validation-rmse:0.435681\u001b[0m\n",
      "\u001b[31m[20:06:38] src/tree/updater_prune.cc:74: tree pruning end, 1 roots, 24 extra nodes, 54 pruned nodes, max_depth=10\u001b[0m\n",
      "\u001b[31m[73]#011train-rmse:0.270597#011validation-rmse:0.435298\u001b[0m\n",
      "\u001b[31m[20:06:38] src/tree/updater_prune.cc:74: tree pruning end, 1 roots, 22 extra nodes, 78 pruned nodes, max_depth=10\u001b[0m\n",
      "\u001b[31m[74]#011train-rmse:0.269897#011validation-rmse:0.434865\u001b[0m\n",
      "\u001b[31m[20:06:38] src/tree/updater_prune.cc:74: tree pruning end, 1 roots, 22 extra nodes, 26 pruned nodes, max_depth=10\u001b[0m\n",
      "\u001b[31m[75]#011train-rmse:0.269215#011validation-rmse:0.434991\u001b[0m\n",
      "\u001b[31m[20:06:38] src/tree/updater_prune.cc:74: tree pruning end, 1 roots, 24 extra nodes, 48 pruned nodes, max_depth=10\u001b[0m\n",
      "\u001b[31m[76]#011train-rmse:0.268388#011validation-rmse:0.434968\u001b[0m\n",
      "\u001b[31m[20:06:38] src/tree/updater_prune.cc:74: tree pruning end, 1 roots, 22 extra nodes, 24 pruned nodes, max_depth=9\u001b[0m\n",
      "\u001b[31m[77]#011train-rmse:0.267759#011validation-rmse:0.434963\u001b[0m\n",
      "\u001b[31m[20:06:38] src/tree/updater_prune.cc:74: tree pruning end, 1 roots, 22 extra nodes, 54 pruned nodes, max_depth=9\u001b[0m\n",
      "\u001b[31m[78]#011train-rmse:0.266917#011validation-rmse:0.434986\u001b[0m\n",
      "\u001b[31m[20:06:38] src/tree/updater_prune.cc:74: tree pruning end, 1 roots, 30 extra nodes, 44 pruned nodes, max_depth=10\u001b[0m\n",
      "\u001b[31m[79]#011train-rmse:0.265948#011validation-rmse:0.434953\u001b[0m\n",
      "\u001b[31m[20:06:38] src/tree/updater_prune.cc:74: tree pruning end, 1 roots, 30 extra nodes, 28 pruned nodes, max_depth=10\u001b[0m\n",
      "\u001b[31m[80]#011train-rmse:0.264943#011validation-rmse:0.435212\u001b[0m\n",
      "\u001b[31m[20:06:38] src/tree/updater_prune.cc:74: tree pruning end, 1 roots, 20 extra nodes, 80 pruned nodes, max_depth=9\u001b[0m\n",
      "\u001b[31m[81]#011train-rmse:0.26415#011validation-rmse:0.435112\u001b[0m\n",
      "\u001b[31m[20:06:38] src/tree/updater_prune.cc:74: tree pruning end, 1 roots, 16 extra nodes, 48 pruned nodes, max_depth=8\u001b[0m\n",
      "\u001b[31m[82]#011train-rmse:0.263846#011validation-rmse:0.435168\u001b[0m\n",
      "\u001b[31m[20:06:38] src/tree/updater_prune.cc:74: tree pruning end, 1 roots, 20 extra nodes, 40 pruned nodes, max_depth=8\u001b[0m\n",
      "\u001b[31m[83]#011train-rmse:0.26328#011validation-rmse:0.435305\u001b[0m\n",
      "\u001b[31m[20:06:38] src/tree/updater_prune.cc:74: tree pruning end, 1 roots, 16 extra nodes, 54 pruned nodes, max_depth=8\u001b[0m\n",
      "\u001b[31m[84]#011train-rmse:0.262593#011validation-rmse:0.435492\u001b[0m\n",
      "\u001b[31m[20:06:38] src/tree/updater_prune.cc:74: tree pruning end, 1 roots, 20 extra nodes, 56 pruned nodes, max_depth=9\u001b[0m\n",
      "\u001b[31m[85]#011train-rmse:0.261828#011validation-rmse:0.435278\u001b[0m\n",
      "\u001b[31m[20:06:38] src/tree/updater_prune.cc:74: tree pruning end, 1 roots, 20 extra nodes, 82 pruned nodes, max_depth=9\u001b[0m\n",
      "\u001b[31m[86]#011train-rmse:0.261185#011validation-rmse:0.435403\u001b[0m\n",
      "\u001b[31m[20:06:38] src/tree/updater_prune.cc:74: tree pruning end, 1 roots, 16 extra nodes, 82 pruned nodes, max_depth=6\u001b[0m\n",
      "\u001b[31m[87]#011train-rmse:0.260531#011validation-rmse:0.435355\u001b[0m\n",
      "\u001b[31m[20:06:38] src/tree/updater_prune.cc:74: tree pruning end, 1 roots, 0 extra nodes, 78 pruned nodes, max_depth=0\u001b[0m\n",
      "\u001b[31m[88]#011train-rmse:0.260517#011validation-rmse:0.435349\u001b[0m\n",
      "\u001b[31m[20:06:38] src/tree/updater_prune.cc:74: tree pruning end, 1 roots, 26 extra nodes, 52 pruned nodes, max_depth=10\u001b[0m\n",
      "\u001b[31m[89]#011train-rmse:0.25957#011validation-rmse:0.435133\u001b[0m\n",
      "\u001b[31m[20:06:38] src/tree/updater_prune.cc:74: tree pruning end, 1 roots, 0 extra nodes, 54 pruned nodes, max_depth=0\u001b[0m\n",
      "\u001b[31m[90]#011train-rmse:0.259543#011validation-rmse:0.435122\u001b[0m\n",
      "\u001b[31m[20:06:38] src/tree/updater_prune.cc:74: tree pruning end, 1 roots, 44 extra nodes, 28 pruned nodes, max_depth=10\u001b[0m\n",
      "\u001b[31m[91]#011train-rmse:0.2578#011validation-rmse:0.435152\u001b[0m\n",
      "\u001b[31m[20:06:38] src/tree/updater_prune.cc:74: tree pruning end, 1 roots, 26 extra nodes, 68 pruned nodes, max_depth=7\u001b[0m\n",
      "\u001b[31m[92]#011train-rmse:0.25699#011validation-rmse:0.435285\u001b[0m\n",
      "\u001b[31m[20:06:38] src/tree/updater_prune.cc:74: tree pruning end, 1 roots, 20 extra nodes, 76 pruned nodes, max_depth=7\u001b[0m\n",
      "\u001b[31m[93]#011train-rmse:0.256206#011validation-rmse:0.435143\u001b[0m\n",
      "\u001b[31m[20:06:38] src/tree/updater_prune.cc:74: tree pruning end, 1 roots, 20 extra nodes, 64 pruned nodes, max_depth=9\u001b[0m\n",
      "\u001b[31m[94]#011train-rmse:0.255458#011validation-rmse:0.435084\u001b[0m\n",
      "\u001b[31m[20:06:38] src/tree/updater_prune.cc:74: tree pruning end, 1 roots, 10 extra nodes, 80 pruned nodes, max_depth=5\u001b[0m\n",
      "\u001b[31m[95]#011train-rmse:0.255242#011validation-rmse:0.435193\u001b[0m\n",
      "\u001b[31m[20:06:38] src/tree/updater_prune.cc:74: tree pruning end, 1 roots, 0 extra nodes, 50 pruned nodes, max_depth=0\u001b[0m\n",
      "\u001b[31m[96]#011train-rmse:0.255224#011validation-rmse:0.435185\u001b[0m\n",
      "\u001b[31m[20:06:38] src/tree/updater_prune.cc:74: tree pruning end, 1 roots, 10 extra nodes, 54 pruned nodes, max_depth=5\u001b[0m\n",
      "\u001b[31m[97]#011train-rmse:0.255011#011validation-rmse:0.434868\u001b[0m\n",
      "\u001b[31m[20:06:38] src/tree/updater_prune.cc:74: tree pruning end, 1 roots, 30 extra nodes, 44 pruned nodes, max_depth=10\u001b[0m\n",
      "\u001b[31m[98]#011train-rmse:0.254061#011validation-rmse:0.435228\u001b[0m\n",
      "\u001b[31m[20:06:38] src/tree/updater_prune.cc:74: tree pruning end, 1 roots, 10 extra nodes, 50 pruned nodes, max_depth=5\u001b[0m\n",
      "\u001b[31m[99]#011train-rmse:0.253803#011validation-rmse:0.4353\u001b[0m\n",
      "\u001b[31m[20:06:38] src/tree/updater_prune.cc:74: tree pruning end, 1 roots, 0 extra nodes, 72 pruned nodes, max_depth=0\u001b[0m\n",
      "\u001b[31m[100]#011train-rmse:0.253759#011validation-rmse:0.435283\u001b[0m\n",
      "\u001b[31m[20:06:38] src/tree/updater_prune.cc:74: tree pruning end, 1 roots, 16 extra nodes, 66 pruned nodes, max_depth=8\u001b[0m\n",
      "\u001b[31m[101]#011train-rmse:0.253265#011validation-rmse:0.435315\u001b[0m\n",
      "\u001b[31m[20:06:38] src/tree/updater_prune.cc:74: tree pruning end, 1 roots, 0 extra nodes, 38 pruned nodes, max_depth=0\u001b[0m\n",
      "\u001b[31m[102]#011train-rmse:0.253209#011validation-rmse:0.435293\u001b[0m\n",
      "\u001b[31m[20:06:38] src/tree/updater_prune.cc:74: tree pruning end, 1 roots, 14 extra nodes, 60 pruned nodes, max_depth=7\u001b[0m\n",
      "\u001b[31m[103]#011train-rmse:0.252845#011validation-rmse:0.435452\u001b[0m\n",
      "\u001b[31m[20:06:38] src/tree/updater_prune.cc:74: tree pruning end, 1 roots, 18 extra nodes, 60 pruned nodes, max_depth=9\u001b[0m\n",
      "\u001b[31m[104]#011train-rmse:0.25234#011validation-rmse:0.435949\u001b[0m\n",
      "\u001b[31m[20:06:38] src/tree/updater_prune.cc:74: tree pruning end, 1 roots, 22 extra nodes, 42 pruned nodes, max_depth=10\u001b[0m\n",
      "\u001b[31m[105]#011train-rmse:0.251592#011validation-rmse:0.435956\u001b[0m\n",
      "\u001b[31m[20:06:38] src/tree/updater_prune.cc:74: tree pruning end, 1 roots, 24 extra nodes, 58 pruned nodes, max_depth=8\u001b[0m\n",
      "\u001b[31m[106]#011train-rmse:0.250562#011validation-rmse:0.435938\u001b[0m\n",
      "\u001b[31m[20:06:38] src/tree/updater_prune.cc:74: tree pruning end, 1 roots, 18 extra nodes, 28 pruned nodes, max_depth=9\u001b[0m\n",
      "\u001b[31m[107]#011train-rmse:0.250041#011validation-rmse:0.436025\u001b[0m\n",
      "\u001b[31m[20:06:38] src/tree/updater_prune.cc:74: tree pruning end, 1 roots, 16 extra nodes, 56 pruned nodes, max_depth=8\u001b[0m\n",
      "\u001b[31m[108]#011train-rmse:0.24933#011validation-rmse:0.43618\u001b[0m\n",
      "\u001b[31m[20:06:39] src/tree/updater_prune.cc:74: tree pruning end, 1 roots, 22 extra nodes, 58 pruned nodes, max_depth=8\u001b[0m\n",
      "\u001b[31m[109]#011train-rmse:0.248491#011validation-rmse:0.435912\u001b[0m\n",
      "\u001b[31m[20:06:39] src/tree/updater_prune.cc:74: tree pruning end, 1 roots, 20 extra nodes, 52 pruned nodes, max_depth=9\u001b[0m\n",
      "\u001b[31m[110]#011train-rmse:0.24801#011validation-rmse:0.435786\u001b[0m\n",
      "\u001b[31m[20:06:39] src/tree/updater_prune.cc:74: tree pruning end, 1 roots, 18 extra nodes, 36 pruned nodes, max_depth=9\u001b[0m\n",
      "\u001b[31m[111]#011train-rmse:0.247489#011validation-rmse:0.435493\u001b[0m\n",
      "\u001b[31m[20:06:39] src/tree/updater_prune.cc:74: tree pruning end, 1 roots, 8 extra nodes, 60 pruned nodes, max_depth=4\u001b[0m\n",
      "\u001b[31m[112]#011train-rmse:0.247369#011validation-rmse:0.435532\u001b[0m\n",
      "\u001b[31m[20:06:39] src/tree/updater_prune.cc:74: tree pruning end, 1 roots, 0 extra nodes, 42 pruned nodes, max_depth=0\u001b[0m\n",
      "\u001b[31m[113]#011train-rmse:0.247413#011validation-rmse:0.435549\u001b[0m\n",
      "\u001b[31m[20:06:39] src/tree/updater_prune.cc:74: tree pruning end, 1 roots, 0 extra nodes, 98 pruned nodes, max_depth=0\u001b[0m\n",
      "\u001b[31m[114]#011train-rmse:0.24744#011validation-rmse:0.43556\u001b[0m\n",
      "\u001b[31m[20:06:39] src/tree/updater_prune.cc:74: tree pruning end, 1 roots, 10 extra nodes, 50 pruned nodes, max_depth=5\u001b[0m\n",
      "\u001b[31m[115]#011train-rmse:0.247225#011validation-rmse:0.435627\u001b[0m\n",
      "\u001b[31m[20:06:39] src/tree/updater_prune.cc:74: tree pruning end, 1 roots, 18 extra nodes, 78 pruned nodes, max_depth=7\u001b[0m\n",
      "\u001b[31m[116]#011train-rmse:0.246824#011validation-rmse:0.435845\u001b[0m\n",
      "\u001b[31m[20:06:39] src/tree/updater_prune.cc:74: tree pruning end, 1 roots, 12 extra nodes, 78 pruned nodes, max_depth=6\u001b[0m\n",
      "\u001b[31m[117]#011train-rmse:0.246462#011validation-rmse:0.435775\u001b[0m\n",
      "\u001b[31m[20:06:39] src/tree/updater_prune.cc:74: tree pruning end, 1 roots, 26 extra nodes, 62 pruned nodes, max_depth=8\u001b[0m\n",
      "\u001b[31m[118]#011train-rmse:0.245592#011validation-rmse:0.435725\u001b[0m\n",
      "\u001b[31m[20:06:39] src/tree/updater_prune.cc:74: tree pruning end, 1 roots, 4 extra nodes, 64 pruned nodes, max_depth=2\u001b[0m\n",
      "\u001b[31m[119]#011train-rmse:0.245479#011validation-rmse:0.435716\u001b[0m\n",
      "\u001b[31m[20:06:39] src/tree/updater_prune.cc:74: tree pruning end, 1 roots, 20 extra nodes, 76 pruned nodes, max_depth=7\u001b[0m\n",
      "\u001b[31m[120]#011train-rmse:0.24478#011validation-rmse:0.43562\u001b[0m\n",
      "\u001b[31m[20:06:39] src/tree/updater_prune.cc:74: tree pruning end, 1 roots, 0 extra nodes, 32 pruned nodes, max_depth=0\u001b[0m\n",
      "\u001b[31m[121]#011train-rmse:0.244844#011validation-rmse:0.435644\u001b[0m\n",
      "\u001b[31m[20:06:39] src/tree/updater_prune.cc:74: tree pruning end, 1 roots, 0 extra nodes, 94 pruned nodes, max_depth=0\u001b[0m\n",
      "\u001b[31m[122]#011train-rmse:0.244832#011validation-rmse:0.43564\u001b[0m\n",
      "\u001b[31m[20:06:39] src/tree/updater_prune.cc:74: tree pruning end, 1 roots, 20 extra nodes, 52 pruned nodes, max_depth=9\u001b[0m\n",
      "\u001b[31m[123]#011train-rmse:0.244118#011validation-rmse:0.435852\u001b[0m\n",
      "\u001b[31m[20:06:39] src/tree/updater_prune.cc:74: tree pruning end, 1 roots, 0 extra nodes, 94 pruned nodes, max_depth=0\u001b[0m\n",
      "\u001b[31m[124]#011train-rmse:0.244126#011validation-rmse:0.435855\u001b[0m\n",
      "\u001b[31mStopping. Best iteration:\u001b[0m\n",
      "\u001b[31m[74]#011train-rmse:0.269897#011validation-rmse:0.434865\n",
      "\u001b[0m\n",
      "Billable seconds: 63\n"
     ]
    }
   ],
   "source": [
    "# training_job_name = 'xgboost-2019-07-02-13-50-30-261'\n",
    "estimator = sagemaker.estimator.Estimator.attach(training_job_name)"
   ]
  },
  {
   "cell_type": "code",
   "execution_count": 149,
   "metadata": {},
   "outputs": [
    {
     "name": "stdout",
     "output_type": "stream",
     "text": [
      "{'_tuning_objective_metric': 'validation:rmse', 'early_stopping_rounds': '50', 'eta': '0.054923833286676146', 'gamma': '3.0417882183103795', 'max_depth': '10', 'min_child_weight': '2', 'num_round': '4000', 'objective': 'binary:logistic', 'silence': '1', 'subsample': '0.8536558502241701'}\n"
     ]
    }
   ],
   "source": [
    "print(estimator.hyperparameters())"
   ]
  },
  {
   "cell_type": "code",
   "execution_count": 150,
   "metadata": {},
   "outputs": [
    {
     "name": "stdout",
     "output_type": "stream",
     "text": [
      "--------------------------------------------------------------------------------------------------------------------------!"
     ]
    }
   ],
   "source": [
    "predictor = estimator.deploy(initial_instance_count=1, instance_type='ml.t2.medium')"
   ]
  },
  {
   "cell_type": "markdown",
   "metadata": {},
   "source": [
    "## Load and Evaluate Test Data"
   ]
  },
  {
   "cell_type": "code",
   "execution_count": 151,
   "metadata": {},
   "outputs": [],
   "source": [
    "import numpy as np\n",
    "def evaluate(predictor, test_features, test_labels, verbose=True):\n",
    "    \"\"\"\n",
    "    Evaluate a model on a test set given the prediction endpoint.  \n",
    "    Return binary classification metrics.\n",
    "    :param predictor: A prediction endpoint\n",
    "    :param test_features: Test features\n",
    "    :param test_labels: Class labels for test data\n",
    "    :param verbose: If True, prints a table of all performance metrics\n",
    "    :return: A dictionary of performance metrics.\n",
    "    \"\"\"\n",
    "    \n",
    "    # rounding and squeezing array\n",
    "    predictions = []\n",
    "    for x in test_features:\n",
    "        x = ','.join(str(val) for val in x).encode('utf-8') \n",
    "        pred = float(predictor.predict(x))\n",
    "        predictions.append(pred)\n",
    "        # print(x)\n",
    "\n",
    "    raw_preds = np.array(predictions)    \n",
    "    print(raw_preds)\n",
    "    \n",
    "    test_preds = raw_preds\n",
    "    # Normalized to range 0 to 1\n",
    "    min_pred = test_preds.min()\n",
    "    max_pred = test_preds.max()\n",
    "    print(f\"Min pred: {min_pred} Max pred: {max_pred}\")\n",
    "    test_y_preds = (test_preds - min_pred) / (max_pred - min_pred)\n",
    "    test_preds = np.round(test_y_preds)  \n",
    "    print(test_preds)\n",
    "    # calculate true positives, false positives, true negatives, false negatives\n",
    "    tp = np.logical_and(test_labels, test_preds).sum()\n",
    "    fp = np.logical_and(1-test_labels, test_preds).sum()\n",
    "    tn = np.logical_and(1-test_labels, 1-test_preds).sum()\n",
    "    fn = np.logical_and(test_labels, 1-test_preds).sum()\n",
    "    \n",
    "    # calculate binary classification metrics\n",
    "    recall = tp / (tp + fn)\n",
    "    precision = tp / (tp + fp)\n",
    "    accuracy = (tp + tn) / (tp + fp + tn + fn)\n",
    "    \n",
    "    # print metrics\n",
    "    if verbose:\n",
    "        print(pd.crosstab(test_labels, test_preds, rownames=['actuals'], colnames=['predictions']))\n",
    "        print(\"\\n{:<11} {:.3f}\".format('Recall:', recall))\n",
    "        print(\"{:<11} {:.3f}\".format('Precision:', precision))\n",
    "        print(\"{:<11} {:.3f}\".format('Accuracy:', accuracy))\n",
    "        print()\n",
    "        \n",
    "    return tp, fp, fn, tn, precision, recall, accuracy, raw_preds"
   ]
  },
  {
   "cell_type": "code",
   "execution_count": 152,
   "metadata": {},
   "outputs": [
    {
     "name": "stdout",
     "output_type": "stream",
     "text": [
      "[0. 1. 1. 0. 1. 0. 1. 1. 0. 1. 1. 0. 0. 1. 1. 0. 1. 1. 1. 0. 1. 1. 1. 1.\n",
      " 1. 0. 1. 1. 1. 1. 1. 1. 1. 1. 0. 1. 1. 1. 1. 0. 0. 0. 1. 1. 1. 1. 1. 1.\n",
      " 1. 1. 0. 0. 1. 0. 0. 0. 1. 0. 1. 1. 1. 0. 1. 1. 1. 1. 1. 1. 1. 0. 1. 1.\n",
      " 1. 1. 1. 0. 0. 1. 0. 1. 1. 1. 1. 0. 1. 1. 1. 1. 1. 1. 0. 0. 1. 1. 0. 1.\n",
      " 1. 0. 0. 1. 1. 0. 1. 1. 1. 1. 0. 1. 1. 0. 1. 0. 1. 0. 1. 1. 0. 1. 1. 0.\n",
      " 1. 1. 1. 1. 1. 0. 1. 1. 1. 1. 1. 0. 0. 1. 1. 1. 1. 0. 0. 1. 1. 1. 1. 1.\n",
      " 1. 0. 1.]\n",
      "[[4.100e+01 1.740e+02 8.230e+02 ... 0.000e+00 0.000e+00 0.000e+00]\n",
      " [9.000e+00 7.000e+01 3.960e+02 ... 0.000e+00 0.000e+00 0.000e+00]\n",
      " [7.700e+01 1.307e+03 8.980e+02 ... 0.000e+00 0.000e+00 0.000e+00]\n",
      " ...\n",
      " [2.400e+01 1.770e+03 1.685e+03 ... 0.000e+00 0.000e+00 0.000e+00]\n",
      " [1.000e+00 1.200e+01 2.300e+01 ... 0.000e+00 0.000e+00 0.000e+00]\n",
      " [2.800e+01 9.090e+02 1.747e+03 ... 0.000e+00 0.000e+00 0.000e+00]]\n"
     ]
    }
   ],
   "source": [
    "test_data = pd.read_csv(os.path.join(data_dir, \"test.csv\"), header=None, names=None)\n",
    "test_y = test_data.iloc[:, 0].values\n",
    "test_x = test_data.iloc[:, 1:].values\n",
    "print(test_y)\n",
    "print(test_x)"
   ]
  },
  {
   "cell_type": "code",
   "execution_count": 153,
   "metadata": {},
   "outputs": [
    {
     "name": "stdout",
     "output_type": "stream",
     "text": [
      "b'28.0,909.0,1747.0,1770.0,1561.0,567.0,147.0,1737.0,909.0,1937.0,1770.0,21.0,816.0,909.0,898.0,970.0,147.0,933.0,909.0,1779.0,816.0,909.0,947.0,1777.0,909.0,754.0,1805.0,1770.0,1788.0,567.0,147.0,875.0,909.0,833.0,1770.0,1520.0,1297.0,1937.0,1501.0,1805.0,1770.0,693.0,22.0,567.0,147.0,1637.0,1195.0,0.0,0.0,0.0,0.0,0.0,0.0,0.0,0.0,0.0,0.0,0.0,0.0,0.0,0.0,0.0,0.0,0.0,0.0,0.0,0.0,0.0,0.0,0.0,0.0,0.0,0.0,0.0,0.0,0.0,0.0,0.0,0.0,0.0,0.0,0.0,0.0,0.0,0.0,0.0,0.0,0.0,0.0,0.0,0.0,0.0,0.0,0.0,0.0,0.0,0.0,0.0,0.0,0.0,0.0,0.0,0.0,0.0,0.0,0.0,0.0,0.0,0.0,0.0,0.0,0.0,0.0,0.0,0.0,0.0,0.0,0.0,0.0,0.0,0.0,0.0,0.0,0.0,0.0,0.0,0.0,0.0,0.0,0.0,0.0,0.0,0.0,0.0,0.0,0.0,0.0,0.0,0.0,0.0,0.0,0.0,0.0,0.0,0.0,0.0,0.0,0.0,0.0,0.0,0.0,0.0,0.0,0.0,0.0,0.0,0.0,0.0,0.0,0.0,0.0,0.0,0.0,0.0,0.0,0.0,0.0,0.0,0.0,0.0,0.0,0.0,0.0,0.0,0.0,0.0'\n"
     ]
    }
   ],
   "source": [
    "x = ','.join(str(val) for val in test_x[-1]).encode('utf-8')\n",
    "print(x)"
   ]
  },
  {
   "cell_type": "code",
   "execution_count": 154,
   "metadata": {},
   "outputs": [
    {
     "name": "stdout",
     "output_type": "stream",
     "text": [
      "0.780285716057\n",
      "1.0\n"
     ]
    }
   ],
   "source": [
    "pred = predictor.predict(x)\n",
    "print(float(pred))\n",
    "print(test_y[-1])"
   ]
  },
  {
   "cell_type": "code",
   "execution_count": 155,
   "metadata": {},
   "outputs": [
    {
     "name": "stdout",
     "output_type": "stream",
     "text": [
      "[0.32678574 0.79644269 0.77557814 0.38392627 0.90085679 0.86234808\n",
      " 0.81323242 0.9275825  0.43325192 0.79614121 0.81789666 0.78181314\n",
      " 0.56183892 0.83131528 0.86051196 0.59374124 0.64796621 0.92559397\n",
      " 0.88101071 0.64151406 0.58214283 0.80274528 0.84412384 0.7797907\n",
      " 0.70234853 0.39340898 0.87180525 0.8669517  0.89111131 0.8191275\n",
      " 0.83048224 0.91622072 0.54515237 0.87353998 0.31071445 0.88207853\n",
      " 0.74594939 0.64250892 0.894346   0.36175376 0.60943013 0.59341592\n",
      " 0.81020766 0.9180795  0.90193707 0.63258427 0.89641726 0.6000554\n",
      " 0.78623253 0.91896486 0.66845024 0.83035636 0.92030847 0.32905725\n",
      " 0.44934645 0.24648586 0.80238605 0.64388496 0.86462373 0.83491057\n",
      " 0.50751072 0.46339455 0.6935935  0.63766003 0.88229996 0.84839934\n",
      " 0.85528398 0.87278527 0.90288305 0.353811   0.88230991 0.8473922\n",
      " 0.6591298  0.52620828 0.58381915 0.23997389 0.65244907 0.89645046\n",
      " 0.88434255 0.74354488 0.88537091 0.79744244 0.83493567 0.60971862\n",
      " 0.91204321 0.80908322 0.69283193 0.87814057 0.90142453 0.9026593\n",
      " 0.85454452 0.42611167 0.81905425 0.83961552 0.59147012 0.90232986\n",
      " 0.88415593 0.50357789 0.73170215 0.77507365 0.8933869  0.48668468\n",
      " 0.90306723 0.70693874 0.89365387 0.9058376  0.57132262 0.88600618\n",
      " 0.7911405  0.23626049 0.82975763 0.50932729 0.46441698 0.80132788\n",
      " 0.89586765 0.84917581 0.60211867 0.91707563 0.8947717  0.24123146\n",
      " 0.71100909 0.79410112 0.9000839  0.67850441 0.91648048 0.56108892\n",
      " 0.84749234 0.62927175 0.88337111 0.5905689  0.87353998 0.59689778\n",
      " 0.75882393 0.72012234 0.85455549 0.56516725 0.86928636 0.67906791\n",
      " 0.63730246 0.92049044 0.85877055 0.92400306 0.93520141 0.87326598\n",
      " 0.86920816 0.14310394 0.78028572]\n",
      "Min pred: 0.143103942275 Max pred: 0.935201406479\n",
      "[0. 1. 1. 0. 1. 1. 1. 1. 0. 1. 1. 1. 1. 1. 1. 1. 1. 1. 1. 1. 1. 1. 1. 1.\n",
      " 1. 0. 1. 1. 1. 1. 1. 1. 1. 1. 0. 1. 1. 1. 1. 0. 1. 1. 1. 1. 1. 1. 1. 1.\n",
      " 1. 1. 1. 1. 1. 0. 0. 0. 1. 1. 1. 1. 0. 0. 1. 1. 1. 1. 1. 1. 1. 0. 1. 1.\n",
      " 1. 0. 1. 0. 1. 1. 1. 1. 1. 1. 1. 1. 1. 1. 1. 1. 1. 1. 1. 0. 1. 1. 1. 1.\n",
      " 1. 0. 1. 1. 1. 0. 1. 1. 1. 1. 1. 1. 1. 0. 1. 0. 0. 1. 1. 1. 1. 1. 1. 0.\n",
      " 1. 1. 1. 1. 1. 1. 1. 1. 1. 1. 1. 1. 1. 1. 1. 1. 1. 1. 1. 1. 1. 1. 1. 1.\n",
      " 1. 0. 1.]\n",
      "predictions  0.0  1.0\n",
      "actuals              \n",
      "0.0           19   24\n",
      "1.0            3  101\n",
      "\n",
      "Recall:     0.971\n",
      "Precision:  0.808\n",
      "Accuracy:   0.816\n",
      "\n",
      "     raw_predicted  predicted  actual\n",
      "5         0.862348        1.0     0.0\n",
      "11        0.781813        1.0     0.0\n",
      "12        0.561839        1.0     0.0\n",
      "15        0.593741        1.0     0.0\n",
      "19        0.641514        1.0     0.0\n",
      "40        0.609430        1.0     0.0\n",
      "41        0.593416        1.0     0.0\n",
      "50        0.668450        1.0     0.0\n",
      "51        0.830356        1.0     0.0\n",
      "57        0.643885        1.0     0.0\n",
      "76        0.652449        1.0     0.0\n",
      "78        0.884343        1.0     0.0\n",
      "83        0.609719        1.0     0.0\n",
      "90        0.854545        1.0     0.0\n",
      "94        0.591470        1.0     0.0\n",
      "97        0.503578        1.0     0.0\n",
      "98        0.731702        1.0     0.0\n",
      "106       0.571323        1.0     0.0\n",
      "111       0.509327        1.0     0.0\n",
      "112       0.464417        0.0     1.0\n",
      "113       0.801328        1.0     0.0\n",
      "116       0.602119        1.0     0.0\n",
      "125       0.561089        1.0     0.0\n",
      "131       0.596898        1.0     0.0\n",
      "132       0.758824        1.0     0.0\n",
      "137       0.679068        1.0     0.0\n",
      "138       0.637302        1.0     0.0\n"
     ]
    }
   ],
   "source": [
    "# Second: calculate the test accuracy\n",
    "tp, fp, fn, tn, precision, recall, accuracy, test_y_preds = evaluate(predictor, test_x, test_y)\n",
    "\n",
    "## print out the array of predicted and true labels, if you want\n",
    "results = pd.concat([pd.DataFrame(test_y_preds), pd.DataFrame(np.round(test_y_preds)), pd.DataFrame(test_y)], axis=1)\n",
    "results.columns = ['raw_predicted','predicted','actual']\n",
    "incorrect_results = results[results['predicted'] != results['actual']]\n",
    "print(incorrect_results)"
   ]
  },
  {
   "cell_type": "code",
   "execution_count": 156,
   "metadata": {},
   "outputs": [],
   "source": [
    "predictor.delete_endpoint()"
   ]
  }
 ],
 "metadata": {
  "kernelspec": {
   "display_name": "Python 3",
   "language": "python",
   "name": "python3"
  },
  "language_info": {
   "codemirror_mode": {
    "name": "ipython",
    "version": 3
   },
   "file_extension": ".py",
   "mimetype": "text/x-python",
   "name": "python",
   "nbconvert_exporter": "python",
   "pygments_lexer": "ipython3",
   "version": "3.7.2"
  }
 },
 "nbformat": 4,
 "nbformat_minor": 2
}
